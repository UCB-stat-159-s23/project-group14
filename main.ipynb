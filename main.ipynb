{
 "cells": [
  {
   "cell_type": "markdown",
   "id": "6632efa5-aa98-4ad7-8a42-0be62d7006d5",
   "metadata": {
    "user_expressions": []
   },
   "source": [
    "# Analysis of Tobacco sales across States in the US\n",
    "by Group 14 (Zilin Zhang, Jessica Chen, Daniel Jang, Isabel Adelhardt)"
   ]
  },
  {
   "cell_type": "markdown",
   "id": "702ef034-a3c4-4bb1-9895-f5c30175b172",
   "metadata": {
    "user_expressions": []
   },
   "source": [
    "## hypothesis: Whether median income per state has an impact to sales\n",
    "1. sales per year in each state from 2013 - 2019\n",
    "2. median income in each state per year from 2013 - 2019\n",
    "\n",
    "2.1 if each state has a +/- difference in median income between years does this relate to the difference in sales\n",
    "\n",
    "3. regression plots for sales and median income in each state per year"
   ]
  },
  {
   "cell_type": "code",
   "execution_count": 1,
   "id": "c2ab0428-b47b-48c5-8c13-b480f5f245e2",
   "metadata": {},
   "outputs": [],
   "source": [
    "import pandas as pd"
   ]
  },
  {
   "cell_type": "markdown",
   "id": "9df9785f-68bc-4999-a8a6-a132fda89713",
   "metadata": {
    "user_expressions": []
   },
   "source": [
    "## Step 1: sales in each state per year from 2013-2019"
   ]
  },
  {
   "cell_type": "code",
   "execution_count": 2,
   "id": "76572d8f-be8c-4326-b0e3-d37ebd3ff9b7",
   "metadata": {},
   "outputs": [
    {
     "data": {
      "text/plain": [
       "51"
      ]
     },
     "execution_count": 2,
     "metadata": {},
     "output_type": "execute_result"
    }
   ],
   "source": [
    "\n",
    "sales_DATA = pd.read_csv(\"data/U.S._Chronic_Disease_Indicators__Tobacco.csv\", low_memory=False)\n",
    "\n",
    "# sales for each state in years from 2013 to 2019\n",
    "# filter question\n",
    "states_sales = sales_DATA[sales_DATA[\"Question\"] == \"Sale of cigarette packs\"]\n",
    "# filter columns\n",
    "states_sales = states_sales[['YearStart', 'LocationAbbr', 'Question', 'DataValueUnit', 'DataValue']]\n",
    "states_sales = states_sales.groupby(['YearStart', 'LocationAbbr']).sum().reset_index()\n",
    "# remove states GU, PR, US, VI since they are not actual states.\n",
    "states_sales = states_sales.loc[states_sales['DataValue'] != 0.0]\n",
    "\n",
    "len(states_sales.LocationAbbr.unique())"
   ]
  },
  {
   "cell_type": "markdown",
   "id": "5d4664eb-34e5-484b-acc2-52f1622d057b",
   "metadata": {
    "user_expressions": []
   },
   "source": [
    "## Step 2: Median income in each state per year from 2013 - 2019\n",
    "\n",
    "Reading in median income data which is from Source: U.S. Bureau of the Census, Current Population Survey, Annual Social and Economic Supplements. For information on confidentiality protection, sampling error, nonsampling error, and definitions, see <www2.census.gov/programs-surveys/cps/techdocs/cpsmar19.pdf>.\n",
    "\n",
    "\n",
    "\n",
    "We are using 2017 Median income instead of 2017(40) because 2017(40) represents data from a new data processing system. The 2017(40) data should be used for analysis of median income after 2017, but our analysis relates mostly to before 2017.\n",
    "\n",
    "We are using 2013(38) beause 2013(39) represents data from individuals who received new income questions. These new income questions were not used in the following years, so we are disregarding this data. "
   ]
  },
  {
   "cell_type": "code",
   "execution_count": 3,
   "id": "354bee19-6ce1-492e-b297-c938e04faff8",
   "metadata": {},
   "outputs": [
    {
     "data": {
      "text/html": [
       "<div>\n",
       "<style scoped>\n",
       "    .dataframe tbody tr th:only-of-type {\n",
       "        vertical-align: middle;\n",
       "    }\n",
       "\n",
       "    .dataframe tbody tr th {\n",
       "        vertical-align: top;\n",
       "    }\n",
       "\n",
       "    .dataframe thead th {\n",
       "        text-align: right;\n",
       "    }\n",
       "</style>\n",
       "<table border=\"1\" class=\"dataframe\">\n",
       "  <thead>\n",
       "    <tr style=\"text-align: right;\">\n",
       "      <th></th>\n",
       "      <th>Location</th>\n",
       "      <th>2019 Median income</th>\n",
       "      <th>2018 Median income</th>\n",
       "      <th>2017 Median income</th>\n",
       "      <th>2016 Median income</th>\n",
       "      <th>2015 Median income</th>\n",
       "      <th>2014 Median income</th>\n",
       "      <th>2013 (38) Median income</th>\n",
       "      <th>avg_med_income</th>\n",
       "      <th>state</th>\n",
       "    </tr>\n",
       "  </thead>\n",
       "  <tbody>\n",
       "    <tr>\n",
       "      <th>1</th>\n",
       "      <td>Alabama</td>\n",
       "      <td>56200.0</td>\n",
       "      <td>49936.0</td>\n",
       "      <td>51113.0</td>\n",
       "      <td>47221.0</td>\n",
       "      <td>44509.0</td>\n",
       "      <td>42278.0</td>\n",
       "      <td>41381.0</td>\n",
       "      <td>47519.714286</td>\n",
       "      <td>AL</td>\n",
       "    </tr>\n",
       "    <tr>\n",
       "      <th>2</th>\n",
       "      <td>Alaska</td>\n",
       "      <td>78394.0</td>\n",
       "      <td>68734.0</td>\n",
       "      <td>72231.0</td>\n",
       "      <td>75723.0</td>\n",
       "      <td>75112.0</td>\n",
       "      <td>67629.0</td>\n",
       "      <td>61137.0</td>\n",
       "      <td>71280.000000</td>\n",
       "      <td>AK</td>\n",
       "    </tr>\n",
       "    <tr>\n",
       "      <th>3</th>\n",
       "      <td>Arizona</td>\n",
       "      <td>70674.0</td>\n",
       "      <td>62283.0</td>\n",
       "      <td>61125.0</td>\n",
       "      <td>57100.0</td>\n",
       "      <td>52248.0</td>\n",
       "      <td>49254.0</td>\n",
       "      <td>50602.0</td>\n",
       "      <td>57612.285714</td>\n",
       "      <td>AZ</td>\n",
       "    </tr>\n",
       "    <tr>\n",
       "      <th>4</th>\n",
       "      <td>Arkansas</td>\n",
       "      <td>54539.0</td>\n",
       "      <td>49781.0</td>\n",
       "      <td>48829.0</td>\n",
       "      <td>45907.0</td>\n",
       "      <td>42798.0</td>\n",
       "      <td>44922.0</td>\n",
       "      <td>39919.0</td>\n",
       "      <td>46670.714286</td>\n",
       "      <td>AR</td>\n",
       "    </tr>\n",
       "    <tr>\n",
       "      <th>5</th>\n",
       "      <td>California</td>\n",
       "      <td>78105.0</td>\n",
       "      <td>70489.0</td>\n",
       "      <td>69759.0</td>\n",
       "      <td>66637.0</td>\n",
       "      <td>63636.0</td>\n",
       "      <td>60487.0</td>\n",
       "      <td>57528.0</td>\n",
       "      <td>66663.000000</td>\n",
       "      <td>CA</td>\n",
       "    </tr>\n",
       "  </tbody>\n",
       "</table>\n",
       "</div>"
      ],
      "text/plain": [
       "     Location 2019 Median income 2018 Median income 2017 Median income  \\\n",
       "1     Alabama            56200.0            49936.0            51113.0   \n",
       "2      Alaska            78394.0            68734.0            72231.0   \n",
       "3     Arizona            70674.0            62283.0            61125.0   \n",
       "4    Arkansas            54539.0            49781.0            48829.0   \n",
       "5  California            78105.0            70489.0            69759.0   \n",
       "\n",
       "  2016 Median income 2015 Median income 2014 Median income  \\\n",
       "1            47221.0            44509.0            42278.0   \n",
       "2            75723.0            75112.0            67629.0   \n",
       "3            57100.0            52248.0            49254.0   \n",
       "4            45907.0            42798.0            44922.0   \n",
       "5            66637.0            63636.0            60487.0   \n",
       "\n",
       "  2013 (38) Median income  avg_med_income state  \n",
       "1                 41381.0    47519.714286    AL  \n",
       "2                 61137.0    71280.000000    AK  \n",
       "3                 50602.0    57612.285714    AZ  \n",
       "4                 39919.0    46670.714286    AR  \n",
       "5                 57528.0    66663.000000    CA  "
      ]
     },
     "execution_count": 3,
     "metadata": {},
     "output_type": "execute_result"
    }
   ],
   "source": [
    "median_DATA = pd.read_csv('data/median_income.csv')\n",
    "cols_drop = median_DATA.columns[median_DATA.columns.str.contains(\"Standard\")]\n",
    "median_income = median_DATA.drop(columns=cols_drop).set_index(\"Location\")\n",
    "\n",
    "#drop 2017(40) and 2013(39)\n",
    "median_income = median_income.drop(median_income.columns[[0, 1, 4, 9]], axis = 1)\n",
    "median_income.head()\n",
    "\n",
    "us_state_to_abbrev = {\n",
    "    \"Alabama\": \"AL\",\n",
    "    \"Alaska\": \"AK\",\n",
    "    \"Arizona\": \"AZ\",\n",
    "    \"Arkansas\": \"AR\",\n",
    "    \"California\": \"CA\",\n",
    "    \"Colorado\": \"CO\",\n",
    "    \"Connecticut\": \"CT\",\n",
    "    \"District of Columbia\": \"DC\",\n",
    "    \"Delaware\": \"DE\",\n",
    "    \"Florida\": \"FL\",\n",
    "    \"Georgia\": \"GA\",\n",
    "    \"Hawaii\": \"HI\",\n",
    "    \"Idaho\": \"ID\",\n",
    "    \"Illinois\": \"IL\",\n",
    "    \"Indiana\": \"IN\",\n",
    "    \"Iowa\": \"IA\",\n",
    "    \"Kansas\": \"KS\",\n",
    "    \"Kentucky\": \"KY\",\n",
    "    \"Louisiana\": \"LA\",\n",
    "    \"Maine\": \"ME\",\n",
    "    \"Maryland\": \"MD\",\n",
    "    \"Massachusetts\": \"MA\",\n",
    "    \"Michigan\": \"MI\",\n",
    "    \"Minnesota\": \"MN\",\n",
    "    \"Mississippi\": \"MS\",\n",
    "    \"Missouri\": \"MO\",\n",
    "    \"Montana\": \"MT\",\n",
    "    \"Nebraska\": \"NE\",\n",
    "    \"Nevada\": \"NV\",\n",
    "    \"New Hampshire\": \"NH\",\n",
    "    \"New Jersey\": \"NJ\",\n",
    "    \"New Mexico\": \"NM\",\n",
    "    \"New York\": \"NY\",\n",
    "    \"North Carolina\": \"NC\",\n",
    "    \"North Dakota\": \"ND\",\n",
    "    \"Ohio\": \"OH\",\n",
    "    \"Oklahoma\": \"OK\",\n",
    "    \"Oregon\": \"OR\",\n",
    "    \"Pennsylvania\": \"PA\",\n",
    "    \"Rhode Island\": \"RI\",\n",
    "    \"South Carolina\": \"SC\",\n",
    "    \"South Dakota\": \"SD\",\n",
    "    \"Tennessee\": \"TN\",\n",
    "    \"Texas\": \"TX\",\n",
    "    \"Utah\": \"UT\",\n",
    "    \"Vermont\": \"VT\",\n",
    "    \"Virginia\": \"VA\",\n",
    "    \"Washington\": \"WA\",\n",
    "    \"West Virginia\": \"WV\",\n",
    "    \"Wisconsin\": \"WI\",\n",
    "    \"Wyoming\": \"WY\"\n",
    "}\n",
    "\n",
    "\n",
    "ddf = median_income.reset_index().copy()\n",
    "\n",
    "ddf.iloc[:, 1:len(ddf)] = ddf.iloc[:, 1:len(ddf)].replace(',','', regex=True).astype(float)\n",
    "ddf[\"avg_med_income\"] = ddf.iloc[:, 1:len(ddf)].mean(axis = 1)\n",
    "\n",
    "#Abbreviate the States for plotly geographical mapping\n",
    "ddf[\"state\"] =  ddf[\"Location\"]\n",
    "ddf = ddf.replace({\"state\": us_state_to_abbrev}).drop(0)\n",
    "ddf.head()\n"
   ]
  },
  {
   "cell_type": "markdown",
   "id": "00796f5f-2dba-441e-86ac-243715be3d8d",
   "metadata": {
    "user_expressions": []
   },
   "source": [
    "- map plot/ bar plot\n",
    "- sum sales for 7 years/7 = avg sales per year for each state"
   ]
  },
  {
   "cell_type": "code",
   "execution_count": null,
   "id": "6981ef05-c04d-4940-aaa2-773bcee8f9c9",
   "metadata": {
    "user_expressions": []
   },
   "outputs": [],
   "source": []
  },
  {
   "cell_type": "markdown",
   "id": "aea02827-6092-4137-80af-5ea138747a92",
   "metadata": {
    "user_expressions": []
   },
   "source": [
    "- map plot\n",
    "- average median income for each state from 2013 - 2019"
   ]
  },
  {
   "cell_type": "code",
   "execution_count": null,
   "id": "066112f9-b7fe-42fa-a0ef-0721af5caff0",
   "metadata": {},
   "outputs": [],
   "source": []
  }
 ],
 "metadata": {
  "kernelspec": {
   "display_name": "Python 3 (ipykernel)",
   "language": "python",
   "name": "python3"
  },
  "language_info": {
   "codemirror_mode": {
    "name": "ipython",
    "version": 3
   },
   "file_extension": ".py",
   "mimetype": "text/x-python",
   "name": "python",
   "nbconvert_exporter": "python",
   "pygments_lexer": "ipython3",
   "version": "3.10.8"
  }
 },
 "nbformat": 4,
 "nbformat_minor": 5
}
