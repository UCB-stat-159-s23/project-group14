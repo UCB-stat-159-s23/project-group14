{
 "cells": [
  {
   "cell_type": "markdown",
   "id": "6632efa5-aa98-4ad7-8a42-0be62d7006d5",
   "metadata": {
    "tags": [],
    "user_expressions": []
   },
   "source": [
    "# Analysis of the relationship between cigarette sales per capita and median income by States in the US\n",
    "by Group 14 (Zilin Zhang, Jiangyue Chen, Daniel Jang, Isabel Adelhardt)"
   ]
  },
  {
   "cell_type": "markdown",
   "id": "8efe58a9-e063-4220-a20d-85b4f085d1a9",
   "metadata": {
    "tags": [],
    "user_expressions": []
   },
   "source": [
    "## Introduction of Project\n",
    "\n",
    "Introduction... + purpose of analysis (?)"
   ]
  },
  {
   "cell_type": "markdown",
   "id": "50b52bbb-f44f-4e74-a521-923f5455a353",
   "metadata": {
    "tags": [],
    "user_expressions": []
   },
   "source": [
    "## Data sources\n",
    "\n",
    "data sources\n",
    "(need to mention the missing 2015 sales data)"
   ]
  },
  {
   "cell_type": "markdown",
   "id": "702ef034-a3c4-4bb1-9895-f5c30175b172",
   "metadata": {
    "tags": [],
    "user_expressions": []
   },
   "source": [
    "## Hypothesis: Whether median income per state has an impact to sales of cigarette per capita\n",
    "\n",
    "In order to examine our assumption, we think the following data analysis are essential:\n",
    "\n",
    "1. plot and analyze the changing trend of cigarette sales per capita in each states in the U.S. from 2013 to 2019\n",
    "2. plot and analyze the changing trend of median income in each states in the U.S. from 2013 to 2019\n",
    "   \n",
    "   · if each state has a +/- difference in median income between years does this relate to the difference in sales\n",
    "\n",
    "3. regression plot for the sales data and median income in each state per year to figure out the relationship of two variables"
   ]
  },
  {
   "cell_type": "code",
   "execution_count": 1,
   "id": "c2ab0428-b47b-48c5-8c13-b480f5f245e2",
   "metadata": {},
   "outputs": [],
   "source": [
    "import pandas as pd\n",
    "from IPython.display import Image"
   ]
  },
  {
   "cell_type": "markdown",
   "id": "7f36dba7-c592-4807-9698-46d721bc6623",
   "metadata": {
    "tags": [],
    "user_expressions": []
   },
   "source": [
    "## Raw Data Preprocessing \n"
   ]
  },
  {
   "cell_type": "markdown",
   "id": "dddc2518-66a0-4591-b4e2-cebb637e3a55",
   "metadata": {
    "tags": [],
    "user_expressions": []
   },
   "source": [
    "For the data we acquire from --- about U.S. Chronic Disease Indicators "
   ]
  },
  {
   "cell_type": "code",
   "execution_count": 2,
   "id": "e3de4f7c-6b4c-46c3-8535-08f1641cfa0f",
   "metadata": {},
   "outputs": [
    {
     "data": {
      "text/html": [
       "<div>\n",
       "<style scoped>\n",
       "    .dataframe tbody tr th:only-of-type {\n",
       "        vertical-align: middle;\n",
       "    }\n",
       "\n",
       "    .dataframe tbody tr th {\n",
       "        vertical-align: top;\n",
       "    }\n",
       "\n",
       "    .dataframe thead th {\n",
       "        text-align: right;\n",
       "    }\n",
       "</style>\n",
       "<table border=\"1\" class=\"dataframe\">\n",
       "  <thead>\n",
       "    <tr style=\"text-align: right;\">\n",
       "      <th></th>\n",
       "      <th>YearStart</th>\n",
       "      <th>LocationDesc</th>\n",
       "      <th>LocationAbbr</th>\n",
       "      <th>Question</th>\n",
       "      <th>DataValueUnit</th>\n",
       "      <th>DataValue</th>\n",
       "    </tr>\n",
       "  </thead>\n",
       "  <tbody>\n",
       "    <tr>\n",
       "      <th>0</th>\n",
       "      <td>2013</td>\n",
       "      <td>Alabama</td>\n",
       "      <td>AL</td>\n",
       "      <td>Sale of cigarette packs</td>\n",
       "      <td>pack sales per capita</td>\n",
       "      <td>64.6</td>\n",
       "    </tr>\n",
       "    <tr>\n",
       "      <th>1</th>\n",
       "      <td>2013</td>\n",
       "      <td>Alaska</td>\n",
       "      <td>AK</td>\n",
       "      <td>Sale of cigarette packs</td>\n",
       "      <td>pack sales per capita</td>\n",
       "      <td>39</td>\n",
       "    </tr>\n",
       "    <tr>\n",
       "      <th>2</th>\n",
       "      <td>2013</td>\n",
       "      <td>Arizona</td>\n",
       "      <td>AZ</td>\n",
       "      <td>Sale of cigarette packs</td>\n",
       "      <td>pack sales per capita</td>\n",
       "      <td>24.4</td>\n",
       "    </tr>\n",
       "    <tr>\n",
       "      <th>3</th>\n",
       "      <td>2013</td>\n",
       "      <td>Arkansas</td>\n",
       "      <td>AR</td>\n",
       "      <td>Sale of cigarette packs</td>\n",
       "      <td>pack sales per capita</td>\n",
       "      <td>57.5</td>\n",
       "    </tr>\n",
       "    <tr>\n",
       "      <th>4</th>\n",
       "      <td>2013</td>\n",
       "      <td>California</td>\n",
       "      <td>CA</td>\n",
       "      <td>Sale of cigarette packs</td>\n",
       "      <td>pack sales per capita</td>\n",
       "      <td>23.9</td>\n",
       "    </tr>\n",
       "    <tr>\n",
       "      <th>...</th>\n",
       "      <td>...</td>\n",
       "      <td>...</td>\n",
       "      <td>...</td>\n",
       "      <td>...</td>\n",
       "      <td>...</td>\n",
       "      <td>...</td>\n",
       "    </tr>\n",
       "    <tr>\n",
       "      <th>325</th>\n",
       "      <td>2019</td>\n",
       "      <td>Virginia</td>\n",
       "      <td>VA</td>\n",
       "      <td>Sale of cigarette packs</td>\n",
       "      <td>pack sales per capita</td>\n",
       "      <td>51.6</td>\n",
       "    </tr>\n",
       "    <tr>\n",
       "      <th>326</th>\n",
       "      <td>2019</td>\n",
       "      <td>Washington</td>\n",
       "      <td>WA</td>\n",
       "      <td>Sale of cigarette packs</td>\n",
       "      <td>pack sales per capita</td>\n",
       "      <td>15</td>\n",
       "    </tr>\n",
       "    <tr>\n",
       "      <th>327</th>\n",
       "      <td>2019</td>\n",
       "      <td>West Virginia</td>\n",
       "      <td>WV</td>\n",
       "      <td>Sale of cigarette packs</td>\n",
       "      <td>pack sales per capita</td>\n",
       "      <td>75</td>\n",
       "    </tr>\n",
       "    <tr>\n",
       "      <th>328</th>\n",
       "      <td>2019</td>\n",
       "      <td>Wisconsin</td>\n",
       "      <td>WI</td>\n",
       "      <td>Sale of cigarette packs</td>\n",
       "      <td>pack sales per capita</td>\n",
       "      <td>35.4</td>\n",
       "    </tr>\n",
       "    <tr>\n",
       "      <th>329</th>\n",
       "      <td>2019</td>\n",
       "      <td>Wyoming</td>\n",
       "      <td>WY</td>\n",
       "      <td>Sale of cigarette packs</td>\n",
       "      <td>pack sales per capita</td>\n",
       "      <td>49.4</td>\n",
       "    </tr>\n",
       "  </tbody>\n",
       "</table>\n",
       "<p>306 rows × 6 columns</p>\n",
       "</div>"
      ],
      "text/plain": [
       "     YearStart   LocationDesc LocationAbbr                 Question  \\\n",
       "0         2013        Alabama           AL  Sale of cigarette packs   \n",
       "1         2013         Alaska           AK  Sale of cigarette packs   \n",
       "2         2013        Arizona           AZ  Sale of cigarette packs   \n",
       "3         2013       Arkansas           AR  Sale of cigarette packs   \n",
       "4         2013     California           CA  Sale of cigarette packs   \n",
       "..         ...            ...          ...                      ...   \n",
       "325       2019       Virginia           VA  Sale of cigarette packs   \n",
       "326       2019     Washington           WA  Sale of cigarette packs   \n",
       "327       2019  West Virginia           WV  Sale of cigarette packs   \n",
       "328       2019      Wisconsin           WI  Sale of cigarette packs   \n",
       "329       2019        Wyoming           WY  Sale of cigarette packs   \n",
       "\n",
       "             DataValueUnit DataValue  \n",
       "0    pack sales per capita      64.6  \n",
       "1    pack sales per capita        39  \n",
       "2    pack sales per capita      24.4  \n",
       "3    pack sales per capita      57.5  \n",
       "4    pack sales per capita      23.9  \n",
       "..                     ...       ...  \n",
       "325  pack sales per capita      51.6  \n",
       "326  pack sales per capita        15  \n",
       "327  pack sales per capita        75  \n",
       "328  pack sales per capita      35.4  \n",
       "329  pack sales per capita      49.4  \n",
       "\n",
       "[306 rows x 6 columns]"
      ]
     },
     "execution_count": 2,
     "metadata": {},
     "output_type": "execute_result"
    }
   ],
   "source": [
    "sales_DATA = pd.read_csv(\"data/U.S._Chronic_Disease_Indicators__Tobacco.csv\", low_memory=False)\n",
    "\n",
    "# sales for each state in years from 2013 to 2019\n",
    "# filter question\n",
    "states_sales = sales_DATA[sales_DATA[\"Question\"] == \"Sale of cigarette packs\"]\n",
    "# filter columns\n",
    "states_sales = states_sales[['YearStart', 'LocationAbbr', 'LocationDesc', 'Question', 'DataValueUnit', 'DataValue']]\n",
    "states_sales = states_sales.groupby(['YearStart', 'LocationDesc']).sum().reset_index()\n",
    "# remove states GU, PR, US, VI since they are not actual states.\n",
    "states_sales = states_sales.loc[states_sales['DataValue'] != 0.0]\n",
    "\n",
    "# len(states_sales.LocationAbbr.unique())\n",
    "states_sales"
   ]
  },
  {
   "cell_type": "code",
   "execution_count": 3,
   "id": "cbf714bf-f06d-442a-bb34-176905721760",
   "metadata": {},
   "outputs": [
    {
     "data": {
      "text/plain": [
       "(59396, 33)"
      ]
     },
     "execution_count": 3,
     "metadata": {},
     "output_type": "execute_result"
    }
   ],
   "source": [
    "sales_DATA.shape"
   ]
  },
  {
   "cell_type": "markdown",
   "id": "ffa6c857-2f96-449e-9b74-e6174f2e17c8",
   "metadata": {
    "tags": [],
    "user_expressions": []
   },
   "source": [
    "## Exploratory Data Analysis"
   ]
  },
  {
   "cell_type": "markdown",
   "id": "9df9785f-68bc-4999-a8a6-a132fda89713",
   "metadata": {
    "tags": [],
    "user_expressions": []
   },
   "source": [
    "### Step 1: Plot and analysis the trend of cigarette sales per capita in each state in the U.S per year from 2013-2019"
   ]
  },
  {
   "cell_type": "markdown",
   "id": "ec59f339-ca12-485a-9e8d-07ff6ea4e7c0",
   "metadata": {
    "tags": [],
    "user_expressions": []
   },
   "source": [
    "In this very first step, we want to figure out the general changing trend of cigarette sales per capita in each state in the U.S. from 2013 to 2019, in order to compare with the change in media income. "
   ]
  },
  {
   "cell_type": "code",
   "execution_count": 6,
   "id": "76572d8f-be8c-4326-b0e3-d37ebd3ff9b7",
   "metadata": {},
   "outputs": [
    {
     "data": {
      "image/png": "[encoded data removed]",
      "text/plain": [
       "<IPython.core.display.Image object>"
      ]
     },
     "execution_count": 6,
     "metadata": {},
     "output_type": "execute_result"
    }
   ],
   "source": [
    "Image(\"output/sales-of-cigarette-each-state.png\")"
   ]
  },
  {
   "cell_type": "markdown",
   "id": "5d2280c2-8ace-4c62-8d19-656dc67e65cc",
   "metadata": {
    "tags": [],
    "user_expressions": []
   },
   "source": [
    "Firstly, in order to best present the change, we decided to use line charts to show the change in cigarette sales per capita in each state from 2013 to 2019. Moreover, as the data in 2015 in the original source is missing, we then decided to skip this year."
   ]
  },
  {
   "cell_type": "markdown",
   "id": "c067a71e-30b6-42c9-9599-dfb1bc95377a",
   "metadata": {
    "tags": [],
    "user_expressions": []
   },
   "source": [
    "In general, from the line chart with 51 lines presenting the changing trend of cigarette sales in 51 states from 2013 to 2019, we can clearly see that the general trend of cigarette sales in each state is decreasing. Even though some states experienced fluctuation, the general trend in every state is still decreasing. "
   ]
  },
  {
   "cell_type": "markdown",
   "id": "5d4664eb-34e5-484b-acc2-52f1622d057b",
   "metadata": {
    "tags": [],
    "user_expressions": []
   },
   "source": [
    "### Step 2: Median income in each state per year from 2013 - 2019\n",
    "\n",
    "Reading in median income data which is from Source: U.S. Bureau of the Census, Current Population Survey, Annual Social and Economic Supplements. For information on confidentiality protection, sampling error, nonsampling error, and definitions, see <www2.census.gov/programs-surveys/cps/techdocs/cpsmar19.pdf>.\n",
    "\n",
    "\n",
    "\n",
    "We are using 2017 Median income instead of 2017(40) because 2017(40) represents data from a new data processing system. The 2017(40) data should be used for analysis of median income after 2017, but our analysis relates mostly to before 2017.\n",
    "\n",
    "We are using 2013(38) beause 2013(39) represents data from individuals who received new income questions. These new income questions were not used in the following years, so we are disregarding this data. "
   ]
  },
  {
   "cell_type": "code",
   "execution_count": 4,
   "id": "354bee19-6ce1-492e-b297-c938e04faff8",
   "metadata": {},
   "outputs": [
    {
     "data": {
      "text/html": [
       "<div>\n",
       "<style scoped>\n",
       "    .dataframe tbody tr th:only-of-type {\n",
       "        vertical-align: middle;\n",
       "    }\n",
       "\n",
       "    .dataframe tbody tr th {\n",
       "        vertical-align: top;\n",
       "    }\n",
       "\n",
       "    .dataframe thead th {\n",
       "        text-align: right;\n",
       "    }\n",
       "</style>\n",
       "<table border=\"1\" class=\"dataframe\">\n",
       "  <thead>\n",
       "    <tr style=\"text-align: right;\">\n",
       "      <th></th>\n",
       "      <th>Location</th>\n",
       "      <th>2019 Median income</th>\n",
       "      <th>2018 Median income</th>\n",
       "      <th>2017 Median income</th>\n",
       "      <th>2016 Median income</th>\n",
       "      <th>2015 Median income</th>\n",
       "      <th>2014 Median income</th>\n",
       "      <th>2013 (38) Median income</th>\n",
       "      <th>avg_med_income</th>\n",
       "      <th>state</th>\n",
       "    </tr>\n",
       "  </thead>\n",
       "  <tbody>\n",
       "    <tr>\n",
       "      <th>1</th>\n",
       "      <td>Alabama</td>\n",
       "      <td>56200.0</td>\n",
       "      <td>49936.0</td>\n",
       "      <td>51113.0</td>\n",
       "      <td>47221.0</td>\n",
       "      <td>44509.0</td>\n",
       "      <td>42278.0</td>\n",
       "      <td>41381.0</td>\n",
       "      <td>47519.714286</td>\n",
       "      <td>AL</td>\n",
       "    </tr>\n",
       "    <tr>\n",
       "      <th>2</th>\n",
       "      <td>Alaska</td>\n",
       "      <td>78394.0</td>\n",
       "      <td>68734.0</td>\n",
       "      <td>72231.0</td>\n",
       "      <td>75723.0</td>\n",
       "      <td>75112.0</td>\n",
       "      <td>67629.0</td>\n",
       "      <td>61137.0</td>\n",
       "      <td>71280.000000</td>\n",
       "      <td>AK</td>\n",
       "    </tr>\n",
       "    <tr>\n",
       "      <th>3</th>\n",
       "      <td>Arizona</td>\n",
       "      <td>70674.0</td>\n",
       "      <td>62283.0</td>\n",
       "      <td>61125.0</td>\n",
       "      <td>57100.0</td>\n",
       "      <td>52248.0</td>\n",
       "      <td>49254.0</td>\n",
       "      <td>50602.0</td>\n",
       "      <td>57612.285714</td>\n",
       "      <td>AZ</td>\n",
       "    </tr>\n",
       "    <tr>\n",
       "      <th>4</th>\n",
       "      <td>Arkansas</td>\n",
       "      <td>54539.0</td>\n",
       "      <td>49781.0</td>\n",
       "      <td>48829.0</td>\n",
       "      <td>45907.0</td>\n",
       "      <td>42798.0</td>\n",
       "      <td>44922.0</td>\n",
       "      <td>39919.0</td>\n",
       "      <td>46670.714286</td>\n",
       "      <td>AR</td>\n",
       "    </tr>\n",
       "    <tr>\n",
       "      <th>5</th>\n",
       "      <td>California</td>\n",
       "      <td>78105.0</td>\n",
       "      <td>70489.0</td>\n",
       "      <td>69759.0</td>\n",
       "      <td>66637.0</td>\n",
       "      <td>63636.0</td>\n",
       "      <td>60487.0</td>\n",
       "      <td>57528.0</td>\n",
       "      <td>66663.000000</td>\n",
       "      <td>CA</td>\n",
       "    </tr>\n",
       "  </tbody>\n",
       "</table>\n",
       "</div>"
      ],
      "text/plain": [
       "     Location 2019 Median income 2018 Median income 2017 Median income  \\\n",
       "1     Alabama            56200.0            49936.0            51113.0   \n",
       "2      Alaska            78394.0            68734.0            72231.0   \n",
       "3     Arizona            70674.0            62283.0            61125.0   \n",
       "4    Arkansas            54539.0            49781.0            48829.0   \n",
       "5  California            78105.0            70489.0            69759.0   \n",
       "\n",
       "  2016 Median income 2015 Median income 2014 Median income  \\\n",
       "1            47221.0            44509.0            42278.0   \n",
       "2            75723.0            75112.0            67629.0   \n",
       "3            57100.0            52248.0            49254.0   \n",
       "4            45907.0            42798.0            44922.0   \n",
       "5            66637.0            63636.0            60487.0   \n",
       "\n",
       "  2013 (38) Median income  avg_med_income state  \n",
       "1                 41381.0    47519.714286    AL  \n",
       "2                 61137.0    71280.000000    AK  \n",
       "3                 50602.0    57612.285714    AZ  \n",
       "4                 39919.0    46670.714286    AR  \n",
       "5                 57528.0    66663.000000    CA  "
      ]
     },
     "execution_count": 4,
     "metadata": {},
     "output_type": "execute_result"
    }
   ],
   "source": [
    "median_DATA = pd.read_csv('data/median_income.csv')\n",
    "cols_drop = median_DATA.columns[median_DATA.columns.str.contains(\"Standard\")]\n",
    "median_income = median_DATA.drop(columns=cols_drop).set_index(\"Location\")\n",
    "\n",
    "#drop 2017(40) and 2013(39)\n",
    "median_income = median_income.drop(median_income.columns[[0, 1, 4, 9]], axis = 1)\n",
    "median_income.head()\n",
    "\n",
    "us_state_to_abbrev = {\n",
    "    \"Alabama\": \"AL\",\n",
    "    \"Alaska\": \"AK\",\n",
    "    \"Arizona\": \"AZ\",\n",
    "    \"Arkansas\": \"AR\",\n",
    "    \"California\": \"CA\",\n",
    "    \"Colorado\": \"CO\",\n",
    "    \"Connecticut\": \"CT\",\n",
    "    \"District of Columbia\": \"DC\",\n",
    "    \"Delaware\": \"DE\",\n",
    "    \"Florida\": \"FL\",\n",
    "    \"Georgia\": \"GA\",\n",
    "    \"Hawaii\": \"HI\",\n",
    "    \"Idaho\": \"ID\",\n",
    "    \"Illinois\": \"IL\",\n",
    "    \"Indiana\": \"IN\",\n",
    "    \"Iowa\": \"IA\",\n",
    "    \"Kansas\": \"KS\",\n",
    "    \"Kentucky\": \"KY\",\n",
    "    \"Louisiana\": \"LA\",\n",
    "    \"Maine\": \"ME\",\n",
    "    \"Maryland\": \"MD\",\n",
    "    \"Massachusetts\": \"MA\",\n",
    "    \"Michigan\": \"MI\",\n",
    "    \"Minnesota\": \"MN\",\n",
    "    \"Mississippi\": \"MS\",\n",
    "    \"Missouri\": \"MO\",\n",
    "    \"Montana\": \"MT\",\n",
    "    \"Nebraska\": \"NE\",\n",
    "    \"Nevada\": \"NV\",\n",
    "    \"New Hampshire\": \"NH\",\n",
    "    \"New Jersey\": \"NJ\",\n",
    "    \"New Mexico\": \"NM\",\n",
    "    \"New York\": \"NY\",\n",
    "    \"North Carolina\": \"NC\",\n",
    "    \"North Dakota\": \"ND\",\n",
    "    \"Ohio\": \"OH\",\n",
    "    \"Oklahoma\": \"OK\",\n",
    "    \"Oregon\": \"OR\",\n",
    "    \"Pennsylvania\": \"PA\",\n",
    "    \"Rhode Island\": \"RI\",\n",
    "    \"South Carolina\": \"SC\",\n",
    "    \"South Dakota\": \"SD\",\n",
    "    \"Tennessee\": \"TN\",\n",
    "    \"Texas\": \"TX\",\n",
    "    \"Utah\": \"UT\",\n",
    "    \"Vermont\": \"VT\",\n",
    "    \"Virginia\": \"VA\",\n",
    "    \"Washington\": \"WA\",\n",
    "    \"West Virginia\": \"WV\",\n",
    "    \"Wisconsin\": \"WI\",\n",
    "    \"Wyoming\": \"WY\"\n",
    "}\n",
    "\n",
    "\n",
    "ddf = median_income.reset_index().copy()\n",
    "\n",
    "ddf.iloc[:, 1:len(ddf)] = ddf.iloc[:, 1:len(ddf)].replace(',','', regex=True).astype(float)\n",
    "ddf[\"avg_med_income\"] = ddf.iloc[:, 1:len(ddf)].mean(axis = 1)\n",
    "\n",
    "#Abbreviate the States for plotly geographical mapping\n",
    "ddf[\"state\"] =  ddf[\"Location\"]\n",
    "ddf = ddf.replace({\"state\": us_state_to_abbrev}).drop(0)\n",
    "ddf.head()\n"
   ]
  },
  {
   "cell_type": "markdown",
   "id": "00796f5f-2dba-441e-86ac-243715be3d8d",
   "metadata": {
    "user_expressions": []
   },
   "source": [
    "- map plot/ bar plot\n",
    "- sum sales for 7 years/7 = avg sales per year for each state"
   ]
  },
  {
   "cell_type": "code",
   "execution_count": 8,
   "id": "6981ef05-c04d-4940-aaa2-773bcee8f9c9",
   "metadata": {
    "user_expressions": []
   },
   "outputs": [
    {
     "data": {
      "text/html": [
       "<div>\n",
       "<style scoped>\n",
       "    .dataframe tbody tr th:only-of-type {\n",
       "        vertical-align: middle;\n",
       "    }\n",
       "\n",
       "    .dataframe tbody tr th {\n",
       "        vertical-align: top;\n",
       "    }\n",
       "\n",
       "    .dataframe thead th {\n",
       "        text-align: right;\n",
       "    }\n",
       "</style>\n",
       "<table border=\"1\" class=\"dataframe\">\n",
       "  <thead>\n",
       "    <tr style=\"text-align: right;\">\n",
       "      <th></th>\n",
       "      <th>2019 Median income</th>\n",
       "      <th>2018 Median income</th>\n",
       "      <th>2017 Median income</th>\n",
       "      <th>2016 Median income</th>\n",
       "      <th>2015 Median income</th>\n",
       "      <th>2014 Median income</th>\n",
       "      <th>2013 (38) Median income</th>\n",
       "    </tr>\n",
       "    <tr>\n",
       "      <th>Location</th>\n",
       "      <th></th>\n",
       "      <th></th>\n",
       "      <th></th>\n",
       "      <th></th>\n",
       "      <th></th>\n",
       "      <th></th>\n",
       "      <th></th>\n",
       "    </tr>\n",
       "  </thead>\n",
       "  <tbody>\n",
       "    <tr>\n",
       "      <th>United States</th>\n",
       "      <td>68,703</td>\n",
       "      <td>63,179</td>\n",
       "      <td>61,372</td>\n",
       "      <td>59,039</td>\n",
       "      <td>56,516</td>\n",
       "      <td>53,657</td>\n",
       "      <td>51,939</td>\n",
       "    </tr>\n",
       "    <tr>\n",
       "      <th>Alabama</th>\n",
       "      <td>56,200</td>\n",
       "      <td>49,936</td>\n",
       "      <td>51,113</td>\n",
       "      <td>47,221</td>\n",
       "      <td>44,509</td>\n",
       "      <td>42,278</td>\n",
       "      <td>41,381</td>\n",
       "    </tr>\n",
       "    <tr>\n",
       "      <th>Alaska</th>\n",
       "      <td>78,394</td>\n",
       "      <td>68,734</td>\n",
       "      <td>72,231</td>\n",
       "      <td>75,723</td>\n",
       "      <td>75,112</td>\n",
       "      <td>67,629</td>\n",
       "      <td>61,137</td>\n",
       "    </tr>\n",
       "    <tr>\n",
       "      <th>Arizona</th>\n",
       "      <td>70,674</td>\n",
       "      <td>62,283</td>\n",
       "      <td>61,125</td>\n",
       "      <td>57,100</td>\n",
       "      <td>52,248</td>\n",
       "      <td>49,254</td>\n",
       "      <td>50,602</td>\n",
       "    </tr>\n",
       "    <tr>\n",
       "      <th>Arkansas</th>\n",
       "      <td>54,539</td>\n",
       "      <td>49,781</td>\n",
       "      <td>48,829</td>\n",
       "      <td>45,907</td>\n",
       "      <td>42,798</td>\n",
       "      <td>44,922</td>\n",
       "      <td>39,919</td>\n",
       "    </tr>\n",
       "  </tbody>\n",
       "</table>\n",
       "</div>"
      ],
      "text/plain": [
       "              2019 Median income 2018 Median income 2017 Median income  \\\n",
       "Location                                                                 \n",
       "United States             68,703             63,179             61,372   \n",
       "Alabama                   56,200             49,936             51,113   \n",
       "Alaska                    78,394             68,734             72,231   \n",
       "Arizona                   70,674             62,283             61,125   \n",
       "Arkansas                  54,539             49,781             48,829   \n",
       "\n",
       "              2016 Median income 2015 Median income 2014 Median income  \\\n",
       "Location                                                                 \n",
       "United States             59,039             56,516             53,657   \n",
       "Alabama                   47,221             44,509             42,278   \n",
       "Alaska                    75,723             75,112             67,629   \n",
       "Arizona                   57,100             52,248             49,254   \n",
       "Arkansas                  45,907             42,798             44,922   \n",
       "\n",
       "              2013 (38) Median income  \n",
       "Location                               \n",
       "United States                  51,939  \n",
       "Alabama                        41,381  \n",
       "Alaska                         61,137  \n",
       "Arizona                        50,602  \n",
       "Arkansas                       39,919  "
      ]
     },
     "execution_count": 8,
     "metadata": {},
     "output_type": "execute_result"
    }
   ],
   "source": [
    "median_income.head()"
   ]
  },
  {
   "cell_type": "markdown",
   "id": "aea02827-6092-4137-80af-5ea138747a92",
   "metadata": {
    "user_expressions": []
   },
   "source": [
    "- map plot\n",
    "- average median income for each state from 2013 - 2019"
   ]
  },
  {
   "cell_type": "markdown",
   "id": "776eb2f2-e715-4d3a-89fa-d373483b37fd",
   "metadata": {
    "tags": [],
    "user_expressions": []
   },
   "source": [
    "### Step 3: Regression"
   ]
  },
  {
   "cell_type": "code",
   "execution_count": null,
   "id": "b81d2b4d-6ad8-4af5-a0ac-379b76d2ef35",
   "metadata": {},
   "outputs": [],
   "source": []
  },
  {
   "cell_type": "markdown",
   "id": "3eac4f38-c3ea-4c81-b7f0-1e2a3b8adb71",
   "metadata": {
    "tags": [],
    "user_expressions": []
   },
   "source": [
    "## Conclusion"
   ]
  },
  {
   "cell_type": "markdown",
   "id": "e459143f-5f28-4d30-9379-b445ae90ac1e",
   "metadata": {
    "tags": [],
    "user_expressions": []
   },
   "source": [
    "## Author Contribution"
   ]
  }
 ],
 "metadata": {
  "kernelspec": {
   "display_name": "Python 3 (ipykernel)",
   "language": "python",
   "name": "python3"
  },
  "language_info": {
   "codemirror_mode": {
    "name": "ipython",
    "version": 3
   },
   "file_extension": ".py",
   "mimetype": "text/x-python",
   "name": "python",
   "nbconvert_exporter": "python",
   "pygments_lexer": "ipython3",
   "version": "3.10.8"
  }
 },
 "nbformat": 4,
 "nbformat_minor": 5
}
